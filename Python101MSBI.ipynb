{
 "cells": [
  {
   "cell_type": "markdown",
   "metadata": {},
   "source": [
    "# Jupyter Basics\n",
    "\n",
    "Jupyter is a _development environment_ for developing computer programs.  Think of a development environment as a program in which you write your (Python) programs.\n",
    "\n",
    "Code is typed into multiple \"cells,\" which are the gray rectangles with the <span style=\"font-family:'Courier New'\">In[]</span> prompt to the left.  Code can be executed individually, cell-by-cell.  To execute the code in a cell, select the cell and click simultaneously on Shift+ Enter.\n",
    "\n",
    "Jupyter also allows headings, text, bullet points, the embedding of images, the embedding of Internet links, LaTex scientific typesetting, and other useful visual displays.  The technique is called markdown, but we will not have time in this session to cover this topic.  However, here are some references you can check out:\n",
    "\n",
    "- [Markdown Link 1](https://medium.com/ibm-data-science-experience/markdown-for-jupyter-notebooks-cheatsheet-386c05aeebed)\n",
    "- [Markdown Link 2](http://jupyter-notebook.readthedocs.io/en/stable/examples/Notebook/Working%20With%20Markdown%20Cells.html)\n",
    "- [Markdown Link 3](https://github.com/adam-p/markdown-here/wiki/Markdown-Cheatsheet)\n",
    "- [Markdown Link 4](http://nestacms.com/docs/creating-content/markdown-cheat-sheet)"
   ]
  },
  {
   "cell_type": "markdown",
   "metadata": {},
   "source": [
    "# Let's Do Some Programming\n",
    "\n",
    "## First Program\n",
    "\n",
    "- Type this statement in the cell below: <span style=\"font-family:'Courier New'\">print('Hello World!')</span>\n",
    "- Hit _Ctrl + Enter_ simultaneously to execute the code in the cell"
   ]
  },
  {
   "cell_type": "code",
   "execution_count": null,
   "metadata": {},
   "outputs": [],
   "source": []
  },
  {
   "cell_type": "code",
   "execution_count": null,
   "metadata": {},
   "outputs": [],
   "source": []
  },
  {
   "cell_type": "markdown",
   "metadata": {},
   "source": [
    "## Assignment Statements\n",
    "\n",
    "- Assignment statements have  an equals sign, <span style=\"font-family:'Courier New'\">=</span>, in them.\n",
    "- The right-hand side is computed and assigned to the variable(s) on the left-hand side\n",
    "    - <span style=\"font-family:'Courier New'\">m</span> is the variable name we use below\n",
    "- Variables store data values\n",
    "    - Variable names start with letters, and can have numbers, underscores, upper and lowercase characters\n",
    "    - VARIABLE NAMES AND PYTHON COMMANDS ARE CASE SENSITIVE!!!!!!!"
   ]
  },
  {
   "cell_type": "code",
   "execution_count": null,
   "metadata": {},
   "outputs": [],
   "source": [
    "m = 'Hello world!'\n",
    "print(m)"
   ]
  },
  {
   "cell_type": "code",
   "execution_count": null,
   "metadata": {},
   "outputs": [],
   "source": [
    "print(M)"
   ]
  },
  {
   "cell_type": "code",
   "execution_count": null,
   "metadata": {},
   "outputs": [],
   "source": [
    "Print(m)"
   ]
  },
  {
   "cell_type": "markdown",
   "metadata": {},
   "source": [
    "Your turn!  Assign a string to a variable and print the value of the variable."
   ]
  },
  {
   "cell_type": "code",
   "execution_count": null,
   "metadata": {},
   "outputs": [],
   "source": []
  },
  {
   "cell_type": "markdown",
   "metadata": {},
   "source": [
    "We will see shortly that variables like <span style=\"font-family:'Courier New'\">m</span> can be of several types.  For starters, we see that <span style=\"font-family:'Courier New'\">m</span> is a string data tpye, that is, it contains text."
   ]
  },
  {
   "cell_type": "code",
   "execution_count": null,
   "metadata": {},
   "outputs": [],
   "source": [
    "type(m)"
   ]
  },
  {
   "cell_type": "markdown",
   "metadata": {},
   "source": [
    "## Output in Jupyter Notebooks\n",
    "\n",
    "The <span style=\"font-family:'Courier New'\">print()</span> function can always get be used in Jupyter or Spyder editors to output the contents of variables.\n",
    "\n",
    "In Jupyter, you can also simply list a variable on the last line of the code and its contents will be displayed.  This works only in Jupyter and not in ither editors."
   ]
  },
  {
   "cell_type": "code",
   "execution_count": null,
   "metadata": {},
   "outputs": [],
   "source": [
    "print(m)"
   ]
  },
  {
   "cell_type": "code",
   "execution_count": null,
   "metadata": {},
   "outputs": [],
   "source": [
    "m"
   ]
  },
  {
   "cell_type": "markdown",
   "metadata": {},
   "source": [
    "# Applications\n",
    "\n",
    "The sections below contain examples of analyses that can be done with Python as motivation for learning Python.  You will not be able to do many of them, now anyway, because some use concepts that we don't have time to cover in this course and others use Python packages that you do not yet have installed."
   ]
  },
  {
   "cell_type": "markdown",
   "metadata": {},
   "source": [
    "## Neural Networks\n",
    "\n",
    "Neural networks are mathematical computation devices that mimic how the human brain works.\n",
    "\n",
    "One task frequently assigned to neural networks is called classification, whereby input data that describes an object is fed into the neural network, which classifies, or categorizes, the object.  One example is hadnwriting recognition where the pixels of an image are fed into a neural network, which with high probability, classifies the image as one of two digits.  The MNIST handwriting dataabse is the most frequenctly used data in this regard.\n",
    "\n",
    "![MNIST Neural Network](images/NeuralNetwork.jpg)"
   ]
  },
  {
   "cell_type": "markdown",
   "metadata": {},
   "source": [
    "_Warning: This code will not run on your machine because it requires a Python package to be installed._"
   ]
  },
  {
   "cell_type": "code",
   "execution_count": null,
   "metadata": {},
   "outputs": [],
   "source": [
    "import matplotlib.pyplot as plt\n",
    "\n",
    "from keras import models\n",
    "from keras.utils import to_categorical\n",
    "import numpy as np\n",
    "\n",
    "\"\"\"\"\"\"\"\"\"\"\"\"\"\"\"\"\"\"\"\"\"\"\"\"\"\"\"\"\"\"\"\"\"\"\"\"\"\"\"\"\"\"\"\"\"\"\"\"\"\"\"\"\"\"\"\"\"\"\"\"\"\"\"\"\"\"\"\"\"\"\"\"\"\"\"\n",
    "Load Data Section\n",
    "\"\"\"\"\"\"\"\"\"\"\"\"\"\"\"\"\"\"\"\"\"\"\"\"\"\"\"\"\"\"\"\"\"\"\"\"\"\"\"\"\"\"\"\"\"\"\"\"\"\"\"\"\"\"\"\"\"\"\"\"\"\"\"\"\"\"\"\"\"\"\"\"\"\"\"\n",
    "from keras.datasets import mnist\n",
    "(train_images, train_labels), (test_images, test_labels) = mnist.load_data()\n",
    "\n",
    "print (\"train_images.shape\",train_images.shape)\n",
    "print (\"len(train_labels)\",len(train_labels))\n",
    "print(\"train_labels\",train_labels)\n",
    "\n",
    "print(\"test_images.shape\", test_images.shape)\n",
    "print(\"len(test_labels)\", len(test_labels))\n",
    "print(\"test_labels\", test_labels)\n",
    "\n",
    "#Reshape to 60000 x 784\n",
    "train_images = train_images.reshape((60000, 28 * 28))\n",
    "test_images = test_images.reshape((10000, 28 * 28))\n",
    "\n",
    "# Reduce range of data to 0,1\n",
    "train_images = train_images.astype('float32') / 255\n",
    "test_images = test_images.astype('float32') / 255\n",
    "\n",
    "# `to_categorical` converts this into a matrix with as many\n",
    "# columns as there are classes. The number of rows\n",
    "# stays the same.\n",
    "train_labels = to_categorical(train_labels)\n",
    "test_labels = to_categorical(test_labels)\n",
    "\n",
    "\n",
    "\n",
    "#Load model and weights\n",
    "json_file = open('data/ff_mnist.json', 'r')\n",
    "loaded_model_json = json_file.read()\n",
    "json_file.close()\n",
    "loaded_model = models.model_from_json(loaded_model_json)\n",
    "# load weights into new model\n",
    "loaded_model.load_weights('data/ff_mnist.h5')\n",
    "print(\"Loaded neural network model from disk\")\n",
    "\n",
    "#Evaluate\n",
    "loaded_model.compile(optimizer='rmsprop',\n",
    "                loss='categorical_crossentropy',\n",
    "                metrics=['accuracy'])\n",
    "\n",
    "# Test 1 on a single image\n",
    "#answer = np.array([[0,0,0,0,0,0,0,1,0,0]], dtype='float32')\n",
    "#score = loaded_model.evaluate(image,answer)\n",
    "\n",
    "# Test 2 on multiple images\n",
    "score = loaded_model.evaluate(test_images,test_labels)\n",
    "test_digits = np.argmax(test_labels, axis=1)\n",
    "\n",
    "print(\"%s: %.2f%%\" % (loaded_model.metrics_names[0], score[0]*100))\n",
    "print(\"%s: %.2f%%\" % (loaded_model.metrics_names[1], score[1]*100))\n",
    "\n",
    "\n",
    "''' Loop through some examples '''\n",
    "num2show = 10\n",
    "images = test_images[:num2show]\n",
    "image_predict = loaded_model.predict(images)\n",
    "image_predict = np.argmax(image_predict,axis=1)\n",
    "images = images.reshape((num2show, 28 ,28))\n",
    "#image = image.reshape((28 ,28))\n",
    "for i in range(len(images)):\n",
    "    print('\\n\\nActual label: ' + str(test_digits[i]) + '  Predicted label: ' + str(image_predict[i]))\n",
    "    plt.imshow(images[i], cmap='gray')\n",
    "    plt.show()"
   ]
  },
  {
   "cell_type": "markdown",
   "metadata": {},
   "source": [
    "## Netflix Frequency Histogram\n",
    "\n",
    "Graph the distribution of Netflix movies over the years in which the movies were released.\n",
    "\n",
    "This analysis is based on a file of the films offered by Netflix as published here:\n",
    "\n",
    "[Kaggle Netflix Data](https://www.kaggle.com/shivamb/netflix-shows/data)\n"
   ]
  },
  {
   "cell_type": "code",
   "execution_count": null,
   "metadata": {},
   "outputs": [],
   "source": [
    "import pandas as pd\n",
    "import matplotlib.pyplot as plt\n",
    "\n",
    "df = pd.read_csv('data/netflix_titles.csv')\n",
    "df = df[df['type'] == 'Movie']\n",
    "df"
   ]
  },
  {
   "cell_type": "code",
   "execution_count": null,
   "metadata": {},
   "outputs": [],
   "source": [
    "freq_hist = df['release_year'].value_counts()\n",
    "\n",
    "years = set(freq_hist.index)\n",
    "missing = set(range(min(years), max(years)+1)) - years\n",
    "freq_hist.append(pd.Series([0 for i in range(len(missing))], index = list(missing)))\n",
    "freq_hist = freq_hist.sort_index()\n",
    "\n",
    "my_font = {'fontname' : 'Times New Roman', 'size':14}\n",
    "tickmark_font = {'fontsize':12, 'fontname' : 'Times New Roman'}\n",
    "fig,ax = plt.subplots()\n",
    "ax.bar(freq_hist.index, freq_hist.values)\n",
    "ax.set_ylabel('Number of Movies', **my_font)\n",
    "ax.set_xlabel('Year', **my_font)\n",
    "fig.suptitle('Distribution of Netflix Movies by Release Year', **my_font)\n",
    "fig.canvas.draw()\n",
    "ax.set_xticklabels([item.get_text() for item in ax.get_xticklabels()], **tickmark_font)\n",
    "ax.set_yticklabels([item.get_text() for item in ax.get_yticklabels()], **tickmark_font)\n",
    "plt.show()"
   ]
  },
  {
   "cell_type": "markdown",
   "metadata": {},
   "source": [
    "## Natural Language Processing (NLP) & Trump's Tweets\n",
    "\n",
    "The simplest form of natural language processing is to count the number of times each word is used and observe the most frequently used words.\n",
    "\n",
    "To do this, ultimately, results in a Pareto Diagram, whcih is a histogram with the frequency data plotted in descending order."
   ]
  },
  {
   "cell_type": "code",
   "execution_count": 2,
   "metadata": {},
   "outputs": [
    {
     "name": "stdout",
     "output_type": "stream",
     "text": [
      "Number of words: 418577\n",
      "                        words\n",
      "0                        read\n",
      "1                       great\n",
      "2                   interview\n",
      "3                      donald\n",
      "4                       trump\n",
      "...                       ...\n",
      "418572                clinton\n",
      "418573                 emails\n",
      "418574                    fbi\n",
      "418575              documents\n",
      "418576  https//tco/gyyaneeysa\n",
      "\n",
      "[418577 rows x 1 columns]\n",
      "you                     7706\n",
      "i                       6569\n",
      "great                   4136\n",
      "trump                   4007\n",
      "we                      2733\n",
      "                        ... \n",
      "http//tco/yvjkqke2         1\n",
      "http//tco/lgcnnmmtsa       1\n",
      "relying                    1\n",
      "@mightywhimpfarm           1\n",
      "#purduecal                 1\n",
      "Name: words, Length: 53131, dtype: int64\n"
     ]
    },
    {
     "data": {
      "image/png": "[encoded data removed]",
      "text/plain": [
       "<Figure size 432x288 with 1 Axes>"
      ]
     },
     "metadata": {
      "needs_background": "light"
     },
     "output_type": "display_data"
    }
   ],
   "source": [
    "import pandas as pd\n",
    "import matplotlib.pyplot as plt\n",
    "\n",
    "''' Input Data '''\n",
    "f = open('data/words.csv','r', encoding='utf8')\n",
    "words = f.readlines()\n",
    "f.close()\n",
    "\n",
    "\"\"\" Get rid of the newline escape sequences \"\"\"\n",
    "for i in range(len(words)):\n",
    "    words[i] = words[i].rstrip()\n",
    "#words\n",
    "\n",
    "\"\"\" Remove common 'stopwords' that are used frequently but don't impart meaning \"\"\"\n",
    "stopWords = ['to', 'the', 'a', 'to', 'is', 'and', 'in', 'of', 'that', 'it', 'be','at', 'this', 'are', 'be', 'for', 'will', 'with', 'at', 'have','on','&amp', 'by']\n",
    "\n",
    "for i in range(len(words)-1,-1,-1):\n",
    "    if words[i] in stopWords or words[i] == '@realdonaldtrump':\n",
    "        del words[i]\n",
    "        \n",
    "print('Number of words:', len(words))\n",
    "\n",
    "dfWords = pd.DataFrame()\n",
    "dfWords['words'] = words\n",
    "print(dfWords)\n",
    "\n",
    "histTrump = dfWords['words'].value_counts()\n",
    "print(histTrump)\n",
    "\n",
    "numPts = 10\n",
    "fig,ax = plt.subplots()\n",
    "ax.bar(histTrump.index[0:numPts],histTrump.values[0:numPts])\n",
    "ax.spines['right'].set_visible(False)\n",
    "ax.spines['top'].set_visible(False)\n",
    "ax.set_xlabel('Word')\n",
    "ax.set_ylabel('Number of Occurrences')\n",
    "fig.suptitle(\"Most Frequent Words in President Trump's Tweets\")\n",
    "plt.show()"
   ]
  },
  {
   "cell_type": "markdown",
   "metadata": {},
   "source": [
    "## Webscraping\n",
    "\n",
    "This example scrapes HTML data, but data formatted in XML and JSON can be scraped as well.\n",
    "\n",
    "[John Wall NBA Stats](https://www.basketball-reference.com/players/w/walljo01/gamelog-advanced/2017/)\n",
    "\n",
    "![John Wall Image](images/JohnWall.jpg)"
   ]
  },
  {
   "cell_type": "code",
   "execution_count": null,
   "metadata": {},
   "outputs": [],
   "source": [
    "import re        # Regular Expressions (Regex) package\n",
    "import requests  # Internet information requests\n",
    "from bs4 import BeautifulSoup  # Parsing HTML\n",
    "\n",
    "html_path = 'https://www.basketball-reference.com/players/w/walljo01/gamelog-advanced/2017/'\n",
    "html_doc = requests.get(html_path).content\n",
    "\n",
    "\"\"\" parse html \"\"\"\n",
    "parsed_html = BeautifulSoup(html_doc, 'lxml')\n",
    "\"\"\" get target row(s) \"\"\"\n",
    "#target_rows = parsed_html.find_all('tr', attrs={'id' : 'pgl_advanced.424'})  # will find one row of data\n",
    "target_rows = parsed_html.find_all('tr', attrs={'id' : re.compile('^pgl_advanced.')})  # uses Regex.  Will find all rows of data\n",
    "\n",
    "print('Number of games found:',len(target_rows))\n",
    "print('Stats are in data type:',type(target_rows),'\\n')\n",
    "all_games = []\n",
    "for row in target_rows:\n",
    "    new_row = []\n",
    "    for x in row.find_all('td'):\n",
    "        new_row.append(x.text)    #x.text.encode(\"ascii\",'ignore')\n",
    "        \n",
    "    all_games.append(new_row)\n",
    "    \n",
    "print('\\nHere\\'s the Data')\n",
    "print(all_games)"
   ]
  },
  {
   "cell_type": "markdown",
   "metadata": {
    "collapsed": true
   },
   "source": [
    "## The pandas Package and Basic Machine Learning\n",
    "\n",
    "Many times in machine learning the analysis is called _classification_ whereby data is used to classify an observation based on its data.  Here, we have data about 150 observations of iris and our job is to find a way to accurately classify each observations as one of the three species based on the data we have.\n",
    "\n",
    "![Iris Species](./images/AllIrisSpecies.jpg)"
   ]
  },
  {
   "cell_type": "code",
   "execution_count": null,
   "metadata": {},
   "outputs": [],
   "source": [
    "def predict(row,b1,b2):\n",
    "    if row['PetalLengthIn'] <= b1:\n",
    "        return 'Iris-setosa'\n",
    "    elif row['PetalLengthIn'] <= b2:\n",
    "        return 'Iris-versicolor'\n",
    "    else:\n",
    "        return 'Iris-virginica'\n",
    "\n",
    "def evalPredict(row):\n",
    "    if row['Predict'] == row['Species']:\n",
    "        return 1\n",
    "    else:\n",
    "        return 0\n",
    "    \n",
    "import matplotlib.pyplot as plt\n",
    "import pandas as pd\n",
    "\n",
    "analytics = False\n",
    "\n",
    "\"\"\" Input data \"\"\"\n",
    "df = pd.read_csv('data/Iris.csv')\n",
    " \n",
    "\"\"\" Convert Dimensions to Inches \"\"\"\n",
    "InPerCm = 2.54   # Conversion factor for inches to centimeters\n",
    "df['PetalLengthIn'] = df['PetalLengthCm'] / InPerCm\n",
    "df['SepalLengthIn'] = df['SepalLengthCm'] / InPerCm\n",
    "\n",
    "\"\"\" Analytics: Set support vectors \"\"\"\n",
    "if analytics:\n",
    "    setosa_versi = 1.0\n",
    "    versi_virginica = 1.9\n",
    "    df['Predict'] = 'N/A'\n",
    "    df['Predict'] = df.apply(predict,args=(setosa_versi,versi_virginica),axis=1)\n",
    "    df['correct'] = 0\n",
    "    df['correct'] = df.apply(evalPredict,axis=1)\n",
    "    print('Prediction Accuracy: ',sum(df['correct']/len(df['correct']))) \n",
    "\n",
    "        \n",
    "\"\"\" Create variables for accessing the Figure and Axes sub-objects \"\"\"\n",
    "fig,ax = plt.subplots()\n",
    "\n",
    "\"\"\" Axes sub-object properties and methods \"\"\"\n",
    "color = ['r','b','g']\n",
    "species = ['Iris-setosa','Iris-versicolor','Iris-virginica']\n",
    "for i in range(len(species)):\n",
    "    ax.scatter(df.loc[df['Species'] == species[i]]['SepalLengthIn'],df.loc[df['Species'] == species[i]]['PetalLengthIn'],c=color[i],label=species[i], alpha=0.5,s=75)\n",
    "ax.yaxis.set_label_text('Petal Length (in)', fontsize = 16)\n",
    "ax.xaxis.set_label_text('Sepal Length (in)', fontsize = 16)\n",
    "ax.xaxis.set_tick_params(labelsize=14)\n",
    "ax.yaxis.set_tick_params(labelsize=14)\n",
    "ax.legend()\n",
    "if analytics:\n",
    "    ax.axhline(setosa_versi)\n",
    "    ax.axhline(versi_virginica)\n",
    "\n",
    "\"\"\" Figure sub-object properties and methods \"\"\"\n",
    "fig.suptitle('Sepal Length versus Petal Length', fontsize = 20)\n",
    "fig.set_size_inches(10,7)\n",
    "fig.savefig('sepLenPetLen.jpg')\n",
    "\n",
    "\"\"\" Display graph \"\"\"\n",
    "plt.show()"
   ]
  },
  {
   "cell_type": "markdown",
   "metadata": {},
   "source": [
    "## Text Processing: Regular Expressions\n",
    "\n",
    "Regular Expressions is commonly referred to by its contraction: RegEx.  It is frequently used in NLP, as well in validating that data being input conforms to feasibility constraints, for example, whether an entry is a valise phone number, zip code, email address, or credit card number."
   ]
  },
  {
   "cell_type": "code",
   "execution_count": null,
   "metadata": {},
   "outputs": [],
   "source": [
    "import re\n",
    "\n",
    "text = '''23187 \n",
    "This is just a test with a zip code here: 12345-4321\n",
    "This is another test\n",
    "Blah blah blah\n",
    "23187-1111\n",
    "14850\n",
    "92520\n",
    "Just text\n",
    "Random text\n",
    "More random test\n",
    "90201'''\n",
    "\n",
    "zip_re = re.compile('(^|\\W)\\d{5}(?:[-\\s]\\d{4})?')\n",
    "\n",
    "text = text.split('\\n')\n",
    "for line in text:\n",
    "    found_text = zip_re.search(line)\n",
    "    if found_text:\n",
    "        print(found_text.group(0).lstrip())"
   ]
  },
  {
   "cell_type": "markdown",
   "metadata": {},
   "source": [
    "## Optimization and Connection with Database\n",
    "\n",
    "The term _interoperability_ denotes the successful connectivity between multiple programs to achieve a result.\n",
    "\n",
    "In this example, where the operations of a large supply chain are optimized, Python is used in conjunction with another piece of optimization software called Gurobi.\n",
    "\n",
    "![Interoperability](./images/interoperability.jpg)"
   ]
  },
  {
   "cell_type": "markdown",
   "metadata": {},
   "source": [
    "_Warning: This code will not run on your machine because it requires a Python package to be installed._"
   ]
  },
  {
   "cell_type": "code",
   "execution_count": null,
   "metadata": {},
   "outputs": [],
   "source": [
    "from gurobipy import *\n",
    "import mysql.connector as mySQL\n",
    "import datetime\n",
    "\n",
    "mysql_user_name =  'Jim'\n",
    "mysql_password = 'MySQL'\n",
    "mysql_ip = '127.0.0.1'\n",
    "mysql_db = 'assign'\n",
    "\n",
    "folder = 'N:/Users/Jim/GoogleDrive200300/BBAPython/'\n",
    "\n",
    "def db_connect():\n",
    "    cnx = mySQL.connect(user=mysql_user_name, passwd=mysql_password,\n",
    "                        host=mysql_ip, db=mysql_db)\n",
    "    return cnx\n",
    "\n",
    "'''\n",
    "def db_get_data(problem_id):\n",
    "    cnx = db_connect()\n",
    "    cursor = cnx.cursor()\n",
    "    cursor.execute(\"CALL spGetBinpackCap(%s);\" % problem_id)\n",
    "    bin_cap = cursor.fetchall()[0][0]\n",
    "    cursor.close()\n",
    "    cursor = cnx.cursor()\n",
    "    cursor.execute(\"CALL spGetBinpackData(%s);\" % problem_id)\n",
    "    items = {}\n",
    "    blank = cursor.fetchall()\n",
    "    for row in blank:\n",
    "        items[row[0]] = row[1]\n",
    "    cursor.close()\n",
    "    cnx.close()\n",
    "    return bin_cap, items'''\n",
    "\n",
    "def getDBDataList(spName):\n",
    "    cnx = db_connect()\n",
    "    cursor = cnx.cursor()\n",
    "    #cursor.execute(commandString, multi=True)\n",
    "    cursor.callproc(spName)\n",
    "    items = []\n",
    "    for result in cursor.stored_results():\n",
    "        for x in result:\n",
    "            items.append(x[0])\n",
    "    cursor.close()\n",
    "    cnx.close()\n",
    "    return items\n",
    "    \n",
    "def getDBDataListX(spName):\n",
    "    cnx = db_connect()\n",
    "    cursor = cnx.cursor()\n",
    "    cursor.callproc(spName)\n",
    "    items = []\n",
    "    for result in cursor.stored_results():\n",
    "        for item in result:\n",
    "            sub_list = []\n",
    "            for ele in item:\n",
    "                sub_list.append(ele)\n",
    "            items.append(sub_list)\n",
    "    #for item in list(cursor):\n",
    "    #    sub_list = []\n",
    "    #    for ele in item:\n",
    "    #        sub_list.append(ele)\n",
    "    #    items.append(sub_list)\n",
    "    cursor.close()\n",
    "    cnx.close()\n",
    "    return items\n",
    "    \n",
    "def getDBDataDictEle(spName, my_args):\n",
    "    cnx = db_connect()\n",
    "    cursor = cnx.cursor()\n",
    "    cursor.callproc(spName, my_args)\n",
    "    items = {}\n",
    "    for result in cursor.stored_results():\n",
    "        for x in result:\n",
    "            items[x[0]] = x[1]\n",
    "        break\n",
    "    cursor.close()\n",
    "    cnx.close()\n",
    "    return items\n",
    "    \n",
    "def getDBDataDict(spName, my_args=None):\n",
    "    cnx = db_connect()\n",
    "    cursor = cnx.cursor()\n",
    "    if my_args:\n",
    "        cursor.callproc(spName, my_args)\n",
    "    else:\n",
    "        cursor.callproc(spName)\n",
    "    items = {}\n",
    "    for result in cursor.stored_results():\n",
    "        for row in result:\n",
    "            items[row[0]] = row[1:len(row)]\n",
    "    cursor.close()\n",
    "    cnx.close()\n",
    "    return items\n",
    "    \n",
    "def getDBDataDictTup(spName, my_args):\n",
    "    cnx = db_connect()\n",
    "    cursor = cnx.cursor()\n",
    "    cursor.callproc(spName, my_args)\n",
    "    items = {}\n",
    "    for result in cursor.stored_results():\n",
    "        for row in result:\n",
    "            items[(row[0],row[1])] = row[2]\n",
    "    cursor.close()\n",
    "    cnx.close()\n",
    "    return items\n",
    "    \n",
    "trail_cu_ft = 4000.0\n",
    "days_year = 365.0\n",
    "\n",
    "#problem_id = 0\n",
    "problems = getDBDataList('spGetProblemIds')\n",
    "\n",
    "# create Gurobi model\n",
    "m = Model(\"Store Assignment Problem\")\n",
    "#m.ModelSense = GRB.MINIMIZE\n",
    "    \n",
    "for problem_id in problems:\n",
    "    dist = getDBDataDictTup('spGetDist', (problem_id,))  # Key: (DC id, Store ID),  Value: distance\n",
    "    dcs = getDBDataDict('spGetDcs', (problem_id,))       # SELECT id, cap_cubic_feet, cap_doors, cap_drivers \n",
    "    stores = getDBDataDictEle('spGetStores', (problem_id,))     # SELECT id, vol_daily\n",
    "\n",
    "    y = {}\n",
    "    for m_key in dist.keys():\n",
    "        y[m_key] = m.addVar(vtype=GRB.BINARY,name='y_'+str(m_key[0])+\"_\"+str(m_key[1]))\n",
    "        \n",
    "    m.update\n",
    "    \n",
    "    for this_key in dcs.keys():       # Capacity constrints\n",
    "        m.addConstr(quicksum(y[tup_key] * stores[tup_key[1]] for tup_key in [tup for tup in y.keys() if tup[0] == this_key]), GRB.LESS_EQUAL, dcs[this_key][0])  # DC cu ft capacity\n",
    "        m.addConstr(quicksum(y[tup_key]  for tup_key in [tup for tup in y.keys() if tup[0] == this_key]), GRB.LESS_EQUAL, dcs[this_key][1])  # DC doors capacity\n",
    "        m.addConstr(quicksum(y[tup_key] * stores[tup_key[1]] / trail_cu_ft for tup_key in [tup for tup in y.keys() if tup[0] == this_key]), GRB.LESS_EQUAL, dcs[this_key][2])  # DC drivers capacity    \n",
    "\n",
    "    for thisStore in stores.keys():  # Each store must be assigned to one DC\n",
    "        m.addConstr(quicksum(y[tup_key] for tup_key in [tup for tup in y.keys() if tup[1] == thisStore]), GRB.EQUAL, 1)\n",
    "\n",
    "    m.setObjective(quicksum(days_year * dist[tup] * y[tup] * stores[tup[1]] / trail_cu_ft for tup in y.keys()),GRB.MINIMIZE) \n",
    "\n",
    "    m.update()\n",
    "    start_time = datetime.datetime.now()\n",
    "    m.optimize()\n",
    "    stop_time = datetime.datetime.now()\n",
    "\n",
    "\n",
    "\n",
    "    print('\\n\\n==================================\\n')\n",
    "    print('Problem',problem_id)\n",
    "    print('Optimal Objective Function Value:', m.ObjVal)\n",
    "    print('Time required for optimization:',stop_time - start_time)\n",
    "    \n",
    "    \n",
    "    \n",
    "filename = 'tableauOpt.csv'\n",
    "store_dict = getDBDataDict('spGetTableauStores')   # Only do this for problem_id = 1\n",
    "f = open(folder+filename, \"w\")\n",
    "f.write('store,dc,name,lat,lon,type,scenario,size\\n')\n",
    "\n",
    "for m_key in dist.keys():\n",
    "    if y[m_key].x == 1:\n",
    "        f.write(str(m_key[1])+\",\"+str(m_key[0])+\",\"+'Store '+str(m_key[1])+\",\"+str(store_dict[m_key[1]][0])+\",\"+str(store_dict[m_key[1]][1])+\",store,Opt,1\\n\")    \n",
    "\n",
    "dc_data = getDBDataListX('spGetTableauDCs')\n",
    "for row in dc_data:\n",
    "    f.write(str(row[0])+\",\"+str(row[0])+\",\"+str(row[1]).replace(\",\",\"\")+\",\"+str(row[2])+\",\"+str(row[3])+\",dc,Opt,7\\n\")\n",
    "f.close()  "
   ]
  },
  {
   "cell_type": "markdown",
   "metadata": {},
   "source": [
    "![Optimal Store Assignment](images/Opt.jpg)"
   ]
  },
  {
   "cell_type": "markdown",
   "metadata": {},
   "source": [
    "# Programming Basics: Modus Operandi\n",
    "\n",
    "To make this session interesting, we will focus on solving a problem and learning Python techniques that are applicable to it.  Our task is:\n",
    "\n",
    "<p><center><b>Graphing temperature data from a data file</b></center></p>\n",
    "\n",
    "This task will present hurdles that we will see how to negotiate with Python.  Each of these hurdles will be motivation for learning a different set of Python skills.\n",
    "\n",
    "Accordingly, we will be cycling back and forth between the problem and learning the necessary fundamentals."
   ]
  },
  {
   "cell_type": "markdown",
   "metadata": {},
   "source": [
    "# Our Problem: Inputting Data\n",
    "\n",
    "Data can be inputted into a Python program from these sources:\n",
    "\n",
    "- Keyboard input\n",
    "- Comma delimited text files\n",
    "- Other text files (space, tab delimited)\n",
    "- JavaScript Object Notation (JSON) files\n",
    "- HyperText Markup Language (HTML) text files\n",
    "- Internet HTML files\n",
    "- eXtensible Markup Language (XML) files\n",
    "- Databases\n",
    "- Other software (e.g., Gurobi)\n",
    "\n",
    "Our input comes from a comma delimited text file named <span style=\"font-family:'Courier New'\">WburgTemp.csv</span>, which contains daily temperature data for Williamsburg in 2019. Each row of data in that file contains these values, seperated by commas: \n",
    "\n",
    "<ol>\n",
    "    <li> An integer indicating the day of the year,</li> \n",
    "    <li> Low daily temperature, and </li>\n",
    "    <li> High daily temperature. </li>\n",
    "</ol>\n",
    "\n",
    "Our tasks are the following:\n",
    "\n",
    "<ol>\n",
    "<li> Input the data into a workable format </li>\n",
    "<li> Graph the high temperature on a daily basis over the year </li>\n",
    "<li> Graph the difference between high and low temperatures a daily basis over the year </li>\n",
    "<li> Compute the mean, median, maximum, minimum, and standard deviation of the high temperatures for 2019 </li>\n",
    "</ol>\n",
    "\n",
    "We start by opening the input file using the variable <span style=\"font-family:'Courier New'\">f</span>, which allows us to access the data.  We use the <span style=\"font-family:'Courier New'\">.readlines()</span> for accessing the data and putting it in a variable called <span style=\"font-family:'Courier New'\">data</span>, which we output for our viewing."
   ]
  },
  {
   "cell_type": "code",
   "execution_count": null,
   "metadata": {},
   "outputs": [],
   "source": [
    "f = open('WburgTemp.csv')\n",
    "data = f.readlines()\n",
    "f.close()\n",
    "data"
   ]
  },
  {
   "cell_type": "markdown",
   "metadata": {},
   "source": [
    "Okay, this opens up a big can of worms:\n",
    "\n",
    "- What do the brackets <span style=\"font-family:'Courier New'\">[</span> and <span style=\"font-family:'Courier New'\">]</span> mean?\n",
    "- What do the single quotes mean?\n",
    "- What is the  <span style=\"font-family:'Courier New'\">\\n</span>?\n",
    "\n",
    "This brings us into a discussion about data types.\n",
    "\n",
    "The function <span style=\"font-family:'Courier New'\">type()</span> tells us what kind"
   ]
  },
  {
   "cell_type": "code",
   "execution_count": null,
   "metadata": {},
   "outputs": [],
   "source": [
    "type(data)"
   ]
  },
  {
   "cell_type": "markdown",
   "metadata": {},
   "source": [
    "This demonstrates that the square brackets denote the list data type.  So, let's learn a bit about lists."
   ]
  },
  {
   "cell_type": "markdown",
   "metadata": {},
   "source": [
    "Pardon me while I do a little housekeeping that will make it easy to reload the data if we need to."
   ]
  },
  {
   "cell_type": "code",
   "execution_count": null,
   "metadata": {},
   "outputs": [],
   "source": [
    "def load_data():\n",
    "    f = open('WburgTemp.csv')\n",
    "    data = f.readlines()\n",
    "    f.close()\n",
    "    return data"
   ]
  },
  {
   "cell_type": "markdown",
   "metadata": {},
   "source": [
    "# Fundamentals: The List Data Type\n",
    "\n",
    "- Specified by square brackets\n",
    "- Can contain mixed types of data\n",
    "- Access entire list by typing variable name\n",
    "- Can access individual elements by index\n",
    "    - 0-based, integer indices\n",
    "- Mutable: elements can be changed and deleted"
   ]
  },
  {
   "cell_type": "code",
   "execution_count": null,
   "metadata": {},
   "outputs": [],
   "source": [
    "myList = [1,3,5,7]\n",
    "print(myList)"
   ]
  },
  {
   "cell_type": "code",
   "execution_count": null,
   "metadata": {},
   "outputs": [],
   "source": [
    "myList1 = [1.0, 3, 5.0, 7]\n",
    "print(myList1)"
   ]
  },
  {
   "cell_type": "code",
   "execution_count": null,
   "metadata": {},
   "outputs": [],
   "source": [
    "print(myList1[0])\n",
    "print(myList1[1])\n",
    "print(myList1[2])\n",
    "print(myList1[3])"
   ]
  },
  {
   "cell_type": "code",
   "execution_count": null,
   "metadata": {},
   "outputs": [],
   "source": [
    "myList1[0] = 99\n",
    "myList1"
   ]
  },
  {
   "cell_type": "markdown",
   "metadata": {},
   "source": [
    "Lists are mutable: you can change and delete elements."
   ]
  },
  {
   "cell_type": "markdown",
   "metadata": {},
   "source": [
    "Multiple elements of a list can be extracted using \"slice\" operations.  List slices can be taken in many different modes, but the basic form is <span style=\"font-family:'Courier New'\">myList[b:e]</span>, where <span style=\"font-family:'Courier New'\">b</span> is the index of the first element you want to extract and <span style=\"font-family:'Courier New'\">e</span> implies that the index of the last element extracted is <span style=\"font-family:'Courier New'\">e-1</span>. \n",
    "\n",
    "**Important**: list indices start with 0."
   ]
  },
  {
   "cell_type": "code",
   "execution_count": null,
   "metadata": {},
   "outputs": [],
   "source": [
    "myList1[1:3]"
   ]
  },
  {
   "cell_type": "markdown",
   "metadata": {},
   "source": [
    "**Important:** Note in the cell above that the element with index 3 was not included."
   ]
  },
  {
   "cell_type": "code",
   "execution_count": null,
   "metadata": {},
   "outputs": [],
   "source": [
    "myList2 = [1,3,5,7,9,11,13,15,17,19,21,23,25,27,29,31,33,35,37,39]"
   ]
  },
  {
   "cell_type": "markdown",
   "metadata": {},
   "source": [
    "Your turn!\n",
    "\n",
    "From the variable <span style=\"font-family:'Courier New'\">myList2</span>, perform these extractions:\n",
    "- Extract the element whose index is 2\n",
    "- Extract the 3rd through the 9th elements"
   ]
  },
  {
   "cell_type": "code",
   "execution_count": null,
   "metadata": {},
   "outputs": [],
   "source": []
  },
  {
   "cell_type": "code",
   "execution_count": null,
   "metadata": {},
   "outputs": [],
   "source": []
  },
  {
   "cell_type": "markdown",
   "metadata": {},
   "source": [
    "You can add elements onto the end of a list using the <span style=\"font-family:'Courier New'\">.append()</span> function, as shown below."
   ]
  },
  {
   "cell_type": "code",
   "execution_count": null,
   "metadata": {},
   "outputs": [],
   "source": [
    "print(myList)\n",
    "myList.append(9)\n",
    "print(myList)"
   ]
  },
  {
   "cell_type": "markdown",
   "metadata": {},
   "source": [
    "Your turn!  Type a statement that appends a value to one of the lists above and then prints the result."
   ]
  },
  {
   "cell_type": "code",
   "execution_count": null,
   "metadata": {},
   "outputs": [],
   "source": []
  },
  {
   "cell_type": "code",
   "execution_count": null,
   "metadata": {},
   "outputs": [],
   "source": []
  },
  {
   "cell_type": "markdown",
   "metadata": {},
   "source": [
    "# Fundamentals: The String Data Type\n",
    "\n",
    "What are the single quotes?"
   ]
  },
  {
   "cell_type": "code",
   "execution_count": null,
   "metadata": {},
   "outputs": [],
   "source": [
    "data[0]"
   ]
  },
  {
   "cell_type": "code",
   "execution_count": null,
   "metadata": {},
   "outputs": [],
   "source": [
    "type(data[0])"
   ]
  },
  {
   "cell_type": "markdown",
   "metadata": {},
   "source": [
    "<span style=\"font-family:'Courier New'\">str</span>, again, denotes a string variable, that is text data."
   ]
  },
  {
   "cell_type": "markdown",
   "metadata": {},
   "source": [
    "# Fundamentals: Other Data Types\n",
    "\n",
    "We will need to be concerned with a other types of data to do this problem."
   ]
  },
  {
   "cell_type": "markdown",
   "metadata": {},
   "source": [
    "## Integers\n",
    "\n",
    "- Integers appear without decimal points"
   ]
  },
  {
   "cell_type": "code",
   "execution_count": null,
   "metadata": {},
   "outputs": [],
   "source": [
    "age = 27\n",
    "print(type(age))\n",
    "print(age)"
   ]
  },
  {
   "cell_type": "code",
   "execution_count": null,
   "metadata": {},
   "outputs": [],
   "source": [
    "newAge = age + 3\n",
    "print(newAge)"
   ]
  },
  {
   "cell_type": "code",
   "execution_count": null,
   "metadata": {},
   "outputs": [],
   "source": [
    "print(newage)"
   ]
  },
  {
   "cell_type": "markdown",
   "metadata": {},
   "source": [
    "## Floating Point Numbers\n",
    "\n",
    "- Floating point numbers appear with decimal points."
   ]
  },
  {
   "cell_type": "code",
   "execution_count": null,
   "metadata": {},
   "outputs": [],
   "source": [
    "temperature = 75.2\n",
    "print(temperature)\n",
    "temperature = 75.\n",
    "print(temperature)"
   ]
  },
  {
   "cell_type": "code",
   "execution_count": null,
   "metadata": {},
   "outputs": [],
   "source": [
    "temperature = 75\n",
    "temperature = temperature + 2\n",
    "print(temperature)"
   ]
  },
  {
   "cell_type": "markdown",
   "metadata": {},
   "source": [
    "Note the shorthand notation below for adding a value to a variable."
   ]
  },
  {
   "cell_type": "code",
   "execution_count": null,
   "metadata": {},
   "outputs": [],
   "source": [
    "temperature += 2.0\n",
    "print(temperature)"
   ]
  },
  {
   "cell_type": "markdown",
   "metadata": {},
   "source": [
    "Adding a floating-point value to an integer value results in a floating-point value."
   ]
  },
  {
   "cell_type": "markdown",
   "metadata": {},
   "source": [
    "## Your Turn!\n",
    "\n",
    "- Create two variables\n",
    "- Assign values to the variables\n",
    "- Add the variables into a third variable\n",
    "- Print out the value of the third variable\n",
    "- Use the <span style=\"font-family:'Courier New'\">type()</span> function to check the type of the summand"
   ]
  },
  {
   "cell_type": "code",
   "execution_count": null,
   "metadata": {},
   "outputs": [],
   "source": []
  },
  {
   "cell_type": "code",
   "execution_count": null,
   "metadata": {},
   "outputs": [],
   "source": []
  },
  {
   "cell_type": "code",
   "execution_count": null,
   "metadata": {},
   "outputs": [],
   "source": []
  },
  {
   "cell_type": "markdown",
   "metadata": {},
   "source": [
    "# Our Problem: Status\n",
    "\n",
    "The <span style=\"font-family:'Courier New'\">data</span> variable is currently a list of strings, where each string contains multiple data fields, which we need to break apart.  We will need to do this string by string within the list, one at a time.  So we need some way to access each string.  We have seen how to access elements within a list using square brackets and an index."
   ]
  },
  {
   "cell_type": "code",
   "execution_count": null,
   "metadata": {},
   "outputs": [],
   "source": [
    "data[:5]"
   ]
  },
  {
   "cell_type": "markdown",
   "metadata": {},
   "source": [
    "# Fundamentals: For Loops\n",
    "\n",
    "- The cell below shows the basic structure of a <span style=\"font-family:'Courier New'\">for</span> loop.\n",
    "- For loops execute as many times as there are elements in the list\n",
    "  - We say that we are _iterating_ through the list\n",
    "- In each iteration, the variable that comes after the <span style=\"font-family:'Courier New'\">for</span> keyword will be assigned a value equal to the elements in the list, in turn\n",
    "- We can check the values of <span style=\"font-family:'Courier New'\">i</span> with a print statement.\n",
    "- A colon comes at the end of the <span style=\"font-family:'Courier New'\">for</span> statement.\n",
    "- All statements to be executed within the loop are indented by 4 spaces"
   ]
  },
  {
   "cell_type": "code",
   "execution_count": null,
   "metadata": {},
   "outputs": [],
   "source": [
    "for i in [0, 5, 2, 8, 6]:\n",
    "    print(i)"
   ]
  },
  {
   "cell_type": "code",
   "execution_count": null,
   "metadata": {},
   "outputs": [],
   "source": [
    "for i in [0, 5, 2, 8, 6]:\n",
    "    i = i/2\n",
    "    print(i)"
   ]
  },
  {
   "cell_type": "markdown",
   "metadata": {},
   "source": [
    "We can iterate through other data types, but we don't have time in this session to discuss them all."
   ]
  },
  {
   "cell_type": "markdown",
   "metadata": {},
   "source": [
    "Your turn!\n",
    "\n",
    "Iterate through the first 10 elements of <span style=\"font-family:'Courier New'\">data</span> and print each element."
   ]
  },
  {
   "cell_type": "code",
   "execution_count": null,
   "metadata": {},
   "outputs": [],
   "source": []
  },
  {
   "cell_type": "markdown",
   "metadata": {},
   "source": [
    "We iterated through a list explicitly above.  We can also iterate through the <span style=\"font-family:'Courier New'\">data</span> list by using the indices of the list, as shown below."
   ]
  },
  {
   "cell_type": "code",
   "execution_count": null,
   "metadata": {},
   "outputs": [],
   "source": [
    "for i in [0,1,2,3,4]:\n",
    "    print(data[i])"
   ]
  },
  {
   "cell_type": "markdown",
   "metadata": {},
   "source": [
    "We have a problem, however, that we won't know how many elements are in a list when we write the program.  Furthermore, we want our program to be flexible to handle any data file we might read.\n",
    "\n",
    "Two Python functions come to our rescue here:\n",
    "\n",
    "- <span style=\"font-family:'Courier New'\">len()</span>\n",
    "  - Can be used to get the number of elements in a list (length)\n",
    "- <span style=\"font-family:'Courier New'\">range(x)</span>\n",
    "  - Generates consecutive integers from 0 to <span style=\"font-family:'Courier New'\">x-1</span>"
   ]
  },
  {
   "cell_type": "code",
   "execution_count": null,
   "metadata": {},
   "outputs": [],
   "source": [
    "len(data)"
   ]
  },
  {
   "cell_type": "code",
   "execution_count": null,
   "metadata": {},
   "outputs": [],
   "source": [
    "print(list(range(10)))"
   ]
  },
  {
   "cell_type": "markdown",
   "metadata": {},
   "source": [
    "Your turn!\n",
    "\n",
    "Can you figure out how to iterate through <span style=\"font-family:'Courier New'\">data</span> while printing out each of its elements?"
   ]
  },
  {
   "cell_type": "code",
   "execution_count": null,
   "metadata": {},
   "outputs": [],
   "source": []
  },
  {
   "cell_type": "markdown",
   "metadata": {},
   "source": [
    "# Our Problem: Status\n",
    "\n",
    "Okay, we can iterate through <span style=\"font-family:'Courier New'\">data</span>, but we need to break apart the data into seperate fields: i.e., Day, High Temperature, and Low Temperature.  To accomplish that we need to learn how to split text."
   ]
  },
  {
   "cell_type": "markdown",
   "metadata": {},
   "source": [
    "# Fundamentals: Splitting Text\n",
    "\n",
    "Before we actually split the data, we need to get rid of the <span style=\"font-family:'Courier New'\">\\n</span> character: this indicates a newline.  We will use the <span style=\"font-family:'Courier New'\">strip()</span> command to do so."
   ]
  },
  {
   "cell_type": "code",
   "execution_count": null,
   "metadata": {},
   "outputs": [],
   "source": [
    "print('\\n\\n\\n\\n\\n')"
   ]
  },
  {
   "cell_type": "code",
   "execution_count": null,
   "metadata": {},
   "outputs": [],
   "source": [
    "data[1]"
   ]
  },
  {
   "cell_type": "code",
   "execution_count": null,
   "metadata": {},
   "outputs": [],
   "source": [
    "data[1].strip()"
   ]
  },
  {
   "cell_type": "code",
   "execution_count": null,
   "metadata": {},
   "outputs": [],
   "source": [
    "data[1]"
   ]
  },
  {
   "cell_type": "markdown",
   "metadata": {},
   "source": [
    "We seemed to get the job done, but not really.  The <span style=\"font-family:'Courier New'\">strip()</span> command doesn't revise the content of a string variable _in place_ but rather makes a copy of the variable's contents.  We need to reassign the stripped version back to the variable, as follows."
   ]
  },
  {
   "cell_type": "code",
   "execution_count": null,
   "metadata": {},
   "outputs": [],
   "source": [
    "data = load_data()"
   ]
  },
  {
   "cell_type": "code",
   "execution_count": null,
   "metadata": {},
   "outputs": [],
   "source": [
    "data[1] = data[1].strip()\n",
    "data[1]"
   ]
  },
  {
   "cell_type": "markdown",
   "metadata": {},
   "source": [
    "Perfect!  Now we can split the string, at the commas, into multiple strings with the <span style=\"font-family:'Courier New'\">split()</span> command."
   ]
  },
  {
   "cell_type": "code",
   "execution_count": null,
   "metadata": {},
   "outputs": [],
   "source": [
    "data[1].split(',')"
   ]
  },
  {
   "cell_type": "markdown",
   "metadata": {},
   "source": [
    "The <span style=\"font-family:'Courier New'\">split()</span> function creates a list containing all the flieds that were separated by commas."
   ]
  },
  {
   "cell_type": "code",
   "execution_count": null,
   "metadata": {},
   "outputs": [],
   "source": [
    "data[1]"
   ]
  },
  {
   "cell_type": "markdown",
   "metadata": {},
   "source": [
    "Same story, <span style=\"font-family:'Courier New'\">split()</span> makes a copy and doesn't change the value of the original variable."
   ]
  },
  {
   "cell_type": "code",
   "execution_count": null,
   "metadata": {},
   "outputs": [],
   "source": [
    "data[1] = data[1].split(',')\n",
    "data[1]"
   ]
  },
  {
   "cell_type": "code",
   "execution_count": null,
   "metadata": {},
   "outputs": [],
   "source": [
    "data[:5]"
   ]
  },
  {
   "cell_type": "markdown",
   "metadata": {},
   "source": [
    "We need to <span style=\"font-family:'Courier New'\">strip()</span> and <span style=\"font-family:'Courier New'\">split()</span> every element of the <span style=\"font-family:'Courier New'\">data</span> list.  Can you figure out how to accomplish that task with the statements we have seen?\n",
    "\n",
    "You will need to execute the cell below to initialize the <span style=\"font-family:'Courier New'\">data</span> list."
   ]
  },
  {
   "cell_type": "code",
   "execution_count": null,
   "metadata": {},
   "outputs": [],
   "source": [
    "data = load_data()"
   ]
  },
  {
   "cell_type": "code",
   "execution_count": null,
   "metadata": {},
   "outputs": [],
   "source": []
  },
  {
   "cell_type": "markdown",
   "metadata": {},
   "source": [
    "We can combine the <span style=\"font-family:'Courier New'\">strip()</span> and <span style=\"font-family:'Courier New'\">split()</span> commands into one statement.  This is called _chaining_ commands. "
   ]
  },
  {
   "cell_type": "code",
   "execution_count": null,
   "metadata": {},
   "outputs": [],
   "source": [
    "data[2] = data[2].strip().split(',')\n",
    "data[2]"
   ]
  },
  {
   "cell_type": "markdown",
   "metadata": {},
   "source": [
    "# Fundamentals: Another Look at Lists\n",
    "\n",
    "Take a look at the first 5 elements of <span style=\"font-family:'Courier New'\">data</span>.  Describe its structure."
   ]
  },
  {
   "cell_type": "code",
   "execution_count": null,
   "metadata": {},
   "outputs": [],
   "source": [
    "data[:5]"
   ]
  },
  {
   "cell_type": "markdown",
   "metadata": {},
   "source": [
    "Do you have any ideas on how we might access an individual string value?  For example, how would you access the high temperature of 68 for 1/1/2019?"
   ]
  },
  {
   "cell_type": "code",
   "execution_count": null,
   "metadata": {},
   "outputs": [],
   "source": [
    "data[1]"
   ]
  },
  {
   "cell_type": "markdown",
   "metadata": {},
   "source": [
    "So, <span style=\"font-family:'Courier New'\">data[1]</span> is a list.  How do we access elements within a list?"
   ]
  },
  {
   "cell_type": "code",
   "execution_count": null,
   "metadata": {},
   "outputs": [],
   "source": []
  },
  {
   "cell_type": "code",
   "execution_count": null,
   "metadata": {},
   "outputs": [],
   "source": []
  },
  {
   "cell_type": "markdown",
   "metadata": {},
   "source": [
    "So, accessing elements of lists of lists, or multi-level lists requires multiple square brackets and indices."
   ]
  },
  {
   "cell_type": "code",
   "execution_count": null,
   "metadata": {},
   "outputs": [],
   "source": []
  },
  {
   "cell_type": "code",
   "execution_count": null,
   "metadata": {},
   "outputs": [],
   "source": []
  },
  {
   "cell_type": "markdown",
   "metadata": {},
   "source": [
    "# Fundamentals: Data Conversion\n",
    "\n",
    "We often need to change the data type of a variable.\n",
    "\n",
    "We want these data types:\n",
    "\n",
    "<ol>\n",
    "    <li> Day index (integer) </li>\n",
    "    <li> Temperatures (integer) </li>\n",
    "    <li> Date (string) </li>\n",
    "</ol>\n",
    "\n",
    "We can make the conversions using the <span style=\"font-family:'Courier New'\">int()</span> conversion function.\n",
    "\n",
    "We need to combine these techniques to convert the sub-lists of the list of lists <span style=\"font-family:'Courier New'\">data</span> to have the data types lsited above:\n",
    "\n",
    "- <span style=\"font-family:'Courier New'\">for</span> loops\n",
    "- Type conversion\n",
    "- Accessing elements within lists of lists\n",
    "- Using the <span style=\"font-family:'Courier New'\">range()</span> and <span style=\"font-family:'Courier New'\">len()</span> functions\n",
    "\n",
    "There are some starter statements in the cell below to get you started."
   ]
  },
  {
   "cell_type": "code",
   "execution_count": null,
   "metadata": {},
   "outputs": [],
   "source": [
    "for i in range(1,len(data)):\n",
    "    # put your statements here"
   ]
  },
  {
   "cell_type": "code",
   "execution_count": null,
   "metadata": {},
   "outputs": [],
   "source": [
    "data"
   ]
  },
  {
   "cell_type": "markdown",
   "metadata": {},
   "source": [
    "There is at least one problem with completing the code in the cell above, or at least doing it well having to do with our need to do a different data conversion depending on the element within the sub-list.  We can use conditional statements to do that task better and create more flexible code."
   ]
  },
  {
   "cell_type": "markdown",
   "metadata": {},
   "source": [
    "# Fundamentals: Conditional Statements\n",
    "\n",
    "- The if-elif-else construct is used for conditional execution in Python.  \n",
    "- Conditional execution means that we need to run different code depending on the circumstances.\n",
    "\n",
    "Let's explain by looking at some code."
   ]
  },
  {
   "cell_type": "code",
   "execution_count": null,
   "metadata": {},
   "outputs": [],
   "source": [
    "for j in range(len(data[1])):\n",
    "    if j == 0 or j >=2:\n",
    "        data[1][j] = int(data[1][j])\n",
    "data[1]"
   ]
  },
  {
   "cell_type": "markdown",
   "metadata": {},
   "source": [
    "Details about <span style=\"font-family:'Courier New'\">if-elif-else</span> clause:\n",
    "\n",
    "- An <span style=\"font-family:'Courier New'\">if</span> clause is required\n",
    "- An <span style=\"font-family:'Courier New'\">elif</span> clause is optional, but you can have arbitrarily many\n",
    "- An <span style=\"font-family:'Courier New'\">else</span> clause is optional, but you can have only 1 if you ahve any\n",
    "- <span style=\"font-family:'Courier New'\">elif</span> is short for <span style=\"font-family:'Courier New'\">else-if</span>\n",
    "- Once either an <span style=\"font-family:'Courier New'\">if</span>, <span style=\"font-family:'Courier New'\">elif</span>, or <span style=\"font-family:'Courier New'\">else</span> clause is executed, then execution commences below the <span style=\"font-family:'Courier New'\">if-elif-else</span> clause.  That is, only one clause is executed.\n",
    "- An <span style=\"font-family:'Courier New'\">else</span> clause is a catchall--it is executed if all the preceding clauses fail\n"
   ]
  },
  {
   "cell_type": "markdown",
   "metadata": {},
   "source": [
    "# Our Problem: Creating a Graph\n",
    "\n",
    "We are going to use the <span style=\"font-family:'Courier New'\">matplotlib</span> Python package to create a graph.\n",
    "\n",
    "Other people have written this code and we are free to import it and use the functions they have defined."
   ]
  },
  {
   "cell_type": "code",
   "execution_count": null,
   "metadata": {},
   "outputs": [],
   "source": [
    "import matplotlib.pyplot as plt\n",
    "%matplotlib inline"
   ]
  },
  {
   "cell_type": "markdown",
   "metadata": {},
   "source": [
    "The simplest program we can use to create a line graph is the following, where we need to create variables named <span style=\"font-family:'Courier New'\">day</span> and <span style=\"font-family:'Courier New'\">hi_temp</span> to contain the <span style=\"font-family:'Courier New'\">x</span> and <span style=\"font-family:'Courier New'\">y</span> access data that we will plot.  These are series of data, actually, and we will create lists to contain these series.\n",
    "\n",
    "The <span style=\"font-family:'Courier New'\">plt.plot()</span> function creates a line plot and the first argument in the parentheses are the <span style=\"font-family:'Courier New'\">x</span> coordinates of the points and the second argument are the <span style=\"font-family:'Courier New'\">y</span> coordinates."
   ]
  },
  {
   "cell_type": "code",
   "execution_count": null,
   "metadata": {},
   "outputs": [],
   "source": [
    "plt.plot(day, hi_temp)\n",
    "plt.show()"
   ]
  },
  {
   "cell_type": "markdown",
   "metadata": {},
   "source": [
    "We can use a for loop to create the needed lists.\n",
    "\n",
    "- The statements such as <span style=\"font-family:'Courier New'\">day = []</span> create new, empty lists\n",
    "- The <span style=\"font-family:'Courier New'\">day.append()</span> statement appends the value in the parentheses onto the end of the list <span style=\"font-family:'Courier New'\">day</span>"
   ]
  },
  {
   "cell_type": "code",
   "execution_count": null,
   "metadata": {},
   "outputs": [],
   "source": [
    "day = []\n",
    "hi_temp = []\n",
    "for i in range(1,len(data)):\n",
    "    day.append(data[i][0])\n",
    "    hi_temp.append(data[i][2])"
   ]
  },
  {
   "cell_type": "markdown",
   "metadata": {},
   "source": [
    "Let's go back a execute the prior code cell to see the graph."
   ]
  },
  {
   "cell_type": "markdown",
   "metadata": {},
   "source": [
    "# Problem 2: Graph Temperature Difference\n",
    "\n",
    "This is easy now that we have finished the first graph.  Just use our plotting code and substitute a list called <span style=\"font-family:'Courier New'\">diff</span> for <span style=\"font-family:'Courier New'\">hi_temp</span>.\n",
    "\n",
    "Notice that I using the character <span style=\"font-family:'Courier New'\">#</span> to create comments, that is, notes taht describe my code that are not executed by the Python interpreter."
   ]
  },
  {
   "cell_type": "code",
   "execution_count": null,
   "metadata": {},
   "outputs": [],
   "source": [
    "diff = [] # create a new, empty list\n",
    "for row in data[1:]:\n",
    "    diff.append(row[2] - row[3])"
   ]
  },
  {
   "cell_type": "code",
   "execution_count": null,
   "metadata": {},
   "outputs": [],
   "source": [
    "plt.plot(day, diff)\n",
    "plt.show()"
   ]
  },
  {
   "cell_type": "markdown",
   "metadata": {},
   "source": [
    "There is also an 'advanced' method for creating the <span style=\"font-family:'Courier New'\">diff</span> list called _list comprehension_ that can be accomplished in one line.\n",
    "\n",
    "I will leave investigation of this technique to you on your own."
   ]
  },
  {
   "cell_type": "code",
   "execution_count": null,
   "metadata": {},
   "outputs": [],
   "source": [
    "diff = [row[2] - row[3] for row in data[1:]]"
   ]
  },
  {
   "cell_type": "markdown",
   "metadata": {},
   "source": [
    "# Problem 3: Statistics"
   ]
  },
  {
   "cell_type": "markdown",
   "metadata": {},
   "source": [
    "Python has many built-in functions, and we have seen some of them: \n",
    "\n",
    "- <span style=\"font-family:'Courier New'\">print()</span>\n",
    "- <span style=\"font-family:'Courier New'\">len()</span>\n",
    "- <span style=\"font-family:'Courier New'\">range()</span>\n",
    "\n",
    "We will use others to compute the <span style=\"font-family:'Courier New'\">min()</span> and <span style=\"font-family:'Courier New'\">max()</span> for the high daily temperature.\n",
    "\n",
    "We will also import the statistics package, which provides an easy way to compute the median and standard deviation.\n",
    "\n",
    "Here is a reference web page: [Python 3 Built-in Functions](https://docs.python.org/3/library/functions.html)\n",
    "\n",
    "![Python Reference](images/BuiltInFunctions.jpg)"
   ]
  },
  {
   "cell_type": "code",
   "execution_count": null,
   "metadata": {},
   "outputs": [],
   "source": [
    "import statistics\n",
    "\n",
    "print('High Temperature Statistics')\n",
    "print('Mean:', sum(hi_temp)/len(hi_temp))\n",
    "print('Median:', statistics.median(hi_temp))\n",
    "print('Minimum:', min(hi_temp))\n",
    "print('Maximum:', max(hi_temp))\n",
    "print('Std. Dev.:',statistics.stdev(hi_temp))"
   ]
  },
  {
   "cell_type": "markdown",
   "metadata": {},
   "source": [
    "# Problem 4: Frequency Histogram\n",
    "\n",
    "We will create a frequency histogram using a new data type, which is called a dictionary.  So first, a little bit about dictionaries. Dictionaries are good for fast access of data and their structure is as follows:\n",
    "\n",
    "- Each dictionary element has two pieces of data seperated by a colon\n",
    "    - key\n",
    "    - value\n",
    "- The keys are used to look up the element values\n",
    "- Keys are unique: no two dictionary elements can have the same keys\n",
    "- Dictionaries are specified by curly braces"
   ]
  },
  {
   "cell_type": "code",
   "execution_count": null,
   "metadata": {},
   "outputs": [],
   "source": [
    "dictNums = {'zero':0,'one':1, 'two':2}\n",
    "print(dictNums['zero'])"
   ]
  },
  {
   "cell_type": "code",
   "execution_count": null,
   "metadata": {},
   "outputs": [],
   "source": [
    "dictNums1 = {0:'zero',1:'one', 2:'two'}\n",
    "print(dictNums1[0])"
   ]
  },
  {
   "cell_type": "markdown",
   "metadata": {},
   "source": [
    "You can add elements to dictionary like this:"
   ]
  },
  {
   "cell_type": "code",
   "execution_count": null,
   "metadata": {},
   "outputs": [],
   "source": [
    "dictNums1[3] = 'tres'"
   ]
  },
  {
   "cell_type": "markdown",
   "metadata": {},
   "source": [
    "If dictionary element values are numerical, you can add to them..."
   ]
  },
  {
   "cell_type": "code",
   "execution_count": null,
   "metadata": {},
   "outputs": [],
   "source": [
    "dictWords = {'a':50, 'the': 29, 'this':19}\n",
    "dictWords"
   ]
  },
  {
   "cell_type": "code",
   "execution_count": null,
   "metadata": {},
   "outputs": [],
   "source": [
    "dictWords['a'] = dictWords['a'] + 1\n",
    "dictWords"
   ]
  },
  {
   "cell_type": "markdown",
   "metadata": {},
   "source": [
    "Strategy for building a frequency histogram:\n",
    "\n",
    "- Create a dictionary where integer temperatures as the keys and values as the number of days\n",
    "- Initialize the values of the dictionary to zero for all required dictionary keys\n",
    "\n",
    "Do you have any ideas on how to proceed?"
   ]
  },
  {
   "cell_type": "code",
   "execution_count": null,
   "metadata": {},
   "outputs": [],
   "source": []
  },
  {
   "cell_type": "code",
   "execution_count": null,
   "metadata": {},
   "outputs": [],
   "source": [
    "plt.bar(freq_hist.keys(), freq_hist.values())\n",
    "plt.show()"
   ]
  },
  {
   "cell_type": "markdown",
   "metadata": {},
   "source": [
    "# ==============================================================\n",
    "#                                         Additional Reference Material\n",
    "# =============================================================="
   ]
  },
  {
   "cell_type": "markdown",
   "metadata": {},
   "source": [
    "# Data Types\n",
    "\n",
    "- Python variables are not declared explicitly\n",
    "- Variables are of the type of the data that are assigned to them"
   ]
  },
  {
   "cell_type": "markdown",
   "metadata": {},
   "source": [
    "## Tuples\n",
    "\n",
    "- Specified by parentheses\n",
    "- Not mutable: elements can neither be changed nor deleted\n",
    "- Accessed by index"
   ]
  },
  {
   "cell_type": "code",
   "execution_count": null,
   "metadata": {},
   "outputs": [],
   "source": [
    "t = (0,1,2,3,4)\n",
    "t[1:3]"
   ]
  },
  {
   "cell_type": "code",
   "execution_count": null,
   "metadata": {},
   "outputs": [],
   "source": [
    "t[1] = 99"
   ]
  },
  {
   "cell_type": "markdown",
   "metadata": {},
   "source": [
    "## Lists of Lists, Lists of Tuples, Tuples of Lists, Etc.\n",
    "\n",
    "We do not have time for the details of all that is possible in this realm, bu be aware that complex data structures of these types are possible."
   ]
  },
  {
   "cell_type": "code",
   "execution_count": null,
   "metadata": {},
   "outputs": [],
   "source": [
    "myList3 = [[0,1,2],[3,4,5],[6,7,8]]\n",
    "print(myList3[1])"
   ]
  },
  {
   "cell_type": "code",
   "execution_count": null,
   "metadata": {},
   "outputs": [],
   "source": [
    "print(myList3[1][2])"
   ]
  },
  {
   "cell_type": "code",
   "execution_count": null,
   "metadata": {},
   "outputs": [],
   "source": [
    "v = [(0,1),(2,3),(4,5)]"
   ]
  },
  {
   "cell_type": "markdown",
   "metadata": {},
   "source": [
    "## Strings\n",
    "\n",
    "- Text\n",
    "- Specify with single or double quotes\n",
    "- Assign an integer to a variable:\n",
    "    - Use an equals sign\n",
    "- Retrieve the value of a variable:\n",
    "    - Use the variable name\n",
    "- Can index by character position\n",
    "    - 0-based indices\n",
    "- Concatenate (append) using the + sign"
   ]
  },
  {
   "cell_type": "code",
   "execution_count": null,
   "metadata": {},
   "outputs": [],
   "source": [
    "myName = 'Jim'\n",
    "yourName = \"Sam\"\n",
    "print(myName,yourName)"
   ]
  },
  {
   "cell_type": "code",
   "execution_count": null,
   "metadata": {},
   "outputs": [],
   "source": [
    "myName + ' & ' + yourName"
   ]
  },
  {
   "cell_type": "code",
   "execution_count": null,
   "metadata": {},
   "outputs": [],
   "source": [
    "names = myName + ' & ' + yourName\n",
    "print(names[0])\n",
    "print(names[1])\n",
    "print(names[2])\n",
    "print(names[3])\n",
    "print(names[4])\n",
    "print(names[5])\n",
    "print(names[6])\n",
    "print(names[7])\n",
    "print(names[8])"
   ]
  },
  {
   "cell_type": "code",
   "execution_count": null,
   "metadata": {},
   "outputs": [],
   "source": [
    "names[0:3]"
   ]
  },
  {
   "cell_type": "code",
   "execution_count": null,
   "metadata": {},
   "outputs": [],
   "source": [
    "text = 'He said this: \"Hello!\"'\n",
    "text"
   ]
  },
  {
   "cell_type": "markdown",
   "metadata": {
    "collapsed": true
   },
   "source": [
    "## Boolean Variables\n",
    "\n",
    "- Boolean variables values are either True or False\n",
    "- The first letter of True and False must be capitalized"
   ]
  },
  {
   "cell_type": "code",
   "execution_count": null,
   "metadata": {},
   "outputs": [],
   "source": [
    "x = True\n",
    "print(type(x))"
   ]
  },
  {
   "cell_type": "code",
   "execution_count": null,
   "metadata": {},
   "outputs": [],
   "source": [
    "not x"
   ]
  },
  {
   "cell_type": "markdown",
   "metadata": {},
   "source": [
    "## Sets\n",
    "\n",
    "- Specified by curly braces, but single element values rhater than key:value pairs\n",
    "- Fast lookup\n",
    "- Set functions: e.g., union, intersection"
   ]
  },
  {
   "cell_type": "code",
   "execution_count": null,
   "metadata": {},
   "outputs": [],
   "source": [
    "mySet = {1,2,'a','b'}"
   ]
  },
  {
   "cell_type": "code",
   "execution_count": null,
   "metadata": {},
   "outputs": [],
   "source": [
    "1 in mySet"
   ]
  },
  {
   "cell_type": "code",
   "execution_count": null,
   "metadata": {},
   "outputs": [],
   "source": [
    "x = 'a'\n",
    "x in mySet"
   ]
  },
  {
   "cell_type": "code",
   "execution_count": null,
   "metadata": {},
   "outputs": [],
   "source": [
    "'c' in mySet"
   ]
  },
  {
   "cell_type": "code",
   "execution_count": null,
   "metadata": {},
   "outputs": [],
   "source": [
    "mySet.issuperset({1,2})"
   ]
  },
  {
   "cell_type": "code",
   "execution_count": null,
   "metadata": {},
   "outputs": [],
   "source": [
    "mySet.issubset({1,2,'a','b','m','n'})"
   ]
  },
  {
   "cell_type": "code",
   "execution_count": null,
   "metadata": {},
   "outputs": [],
   "source": [
    "mySet.intersection({0,1,2,3,4,5})"
   ]
  },
  {
   "cell_type": "code",
   "execution_count": null,
   "metadata": {},
   "outputs": [],
   "source": [
    "mySet.remove(2)\n",
    "mySet"
   ]
  },
  {
   "cell_type": "markdown",
   "metadata": {},
   "source": [
    "Your turn!\n",
    "\n",
    "Create two sets:\n",
    "\n",
    "- A sequence of the multiples of 5 from 5 to 1000\n",
    "- A sequence of the multiples of 3 from 3 to 1000\n",
    "\n",
    "Then, find the intersection of those sets."
   ]
  },
  {
   "cell_type": "code",
   "execution_count": null,
   "metadata": {},
   "outputs": [],
   "source": [
    "# Write your code to solve this question here\n"
   ]
  },
  {
   "cell_type": "markdown",
   "metadata": {},
   "source": [
    "# Basic Python Statements\n",
    "\n",
    "## Addition, Subtraction, Multiplication, & Division\n",
    "\n",
    "We have already demonstrated addition: substraction is totally analogous.\n",
    "\n",
    "There exists one special type of division, which refers to Version 2 of Python where the result is truncated to an inter if both numerator and denominator are integers.  This form of division usese a double slash: _//_."
   ]
  },
  {
   "cell_type": "code",
   "execution_count": null,
   "metadata": {},
   "outputs": [],
   "source": [
    "w = 2.0\n",
    "x = 2\n",
    "y = 5.0\n",
    "z = 5\n",
    "print('y/w:',y/w)\n",
    "print('y/x:',y/x)\n",
    "print('z/w:',z/w)\n",
    "print('z/x:',z/x)\n",
    "print('z//x:',z//x)"
   ]
  },
  {
   "cell_type": "code",
   "execution_count": null,
   "metadata": {},
   "outputs": [],
   "source": [
    "print('y*w:',y*w)\n",
    "print('y*x:',y*x)\n",
    "print('z*w:',z*w)\n",
    "print('z*x:',z*x)"
   ]
  },
  {
   "cell_type": "markdown",
   "metadata": {},
   "source": [
    "Python has the unusual syntax of multiple variables on the left-hand side of an assignment statement, which can eb very convenient."
   ]
  },
  {
   "cell_type": "code",
   "execution_count": null,
   "metadata": {},
   "outputs": [],
   "source": [
    "x = (4,7)\n",
    "y,z = x\n",
    "print(y)\n",
    "print(z)"
   ]
  },
  {
   "cell_type": "code",
   "execution_count": null,
   "metadata": {},
   "outputs": [],
   "source": [
    "w,y,z = x"
   ]
  },
  {
   "cell_type": "markdown",
   "metadata": {},
   "source": [
    "## Boolean Operations & Statements\n",
    "\n",
    "- Boolean logic\n",
    "    - Operations on True and False values\n",
    "    - Results are either True of False\n",
    "- Operators\n",
    "    - ==, <, >, <=, >=, and, or, ^, not, in, !=\n",
    "    - Most operators are obvious: the ^ (hat) symbol is for exclusive or\n",
    "        - False ^ False = False\n",
    "        - True ^ False = True\n",
    "        - False ^ True = True\n",
    "        - True ^ True = False"
   ]
  },
  {
   "cell_type": "code",
   "execution_count": null,
   "metadata": {},
   "outputs": [],
   "source": [
    "3 < 4"
   ]
  },
  {
   "cell_type": "code",
   "execution_count": null,
   "metadata": {},
   "outputs": [],
   "source": [
    "3 > 4"
   ]
  },
  {
   "cell_type": "code",
   "execution_count": null,
   "metadata": {},
   "outputs": [],
   "source": [
    "(3 == 3) ^ (3 != 3)"
   ]
  },
  {
   "cell_type": "markdown",
   "metadata": {
    "collapsed": true
   },
   "source": [
    "Write a Boolean expression to  investigate whether teh value of the variable _x_ is both greter than 3 and less then 10"
   ]
  },
  {
   "cell_type": "code",
   "execution_count": null,
   "metadata": {},
   "outputs": [],
   "source": [
    "x = 5\n",
    "# Put your expression on the next line:\n"
   ]
  },
  {
   "cell_type": "markdown",
   "metadata": {},
   "source": [
    "### Data Type Conversions\n",
    "\n",
    "- Converting data and variables form one type to another"
   ]
  },
  {
   "cell_type": "code",
   "execution_count": null,
   "metadata": {},
   "outputs": [],
   "source": [
    "int()"
   ]
  },
  {
   "cell_type": "code",
   "execution_count": null,
   "metadata": {},
   "outputs": [],
   "source": [
    "float()"
   ]
  },
  {
   "cell_type": "code",
   "execution_count": null,
   "metadata": {},
   "outputs": [],
   "source": [
    "str()"
   ]
  },
  {
   "cell_type": "code",
   "execution_count": null,
   "metadata": {},
   "outputs": [],
   "source": [
    "bool(0) # 0 is converted to False; any other value is interpreted as True"
   ]
  },
  {
   "cell_type": "code",
   "execution_count": null,
   "metadata": {},
   "outputs": [],
   "source": [
    "bool(1)"
   ]
  },
  {
   "cell_type": "code",
   "execution_count": null,
   "metadata": {},
   "outputs": [],
   "source": [
    "x = (4,5)\n",
    "x = list(x)\n",
    "x"
   ]
  },
  {
   "cell_type": "code",
   "execution_count": null,
   "metadata": {},
   "outputs": [],
   "source": [
    "x = tuple(x)\n",
    "x"
   ]
  },
  {
   "cell_type": "markdown",
   "metadata": {},
   "source": [
    "## Try-Except Code Blocks\n",
    "\n",
    "If some statement won't work in some foreseen circumstances and you don't want your code to stop, you can use the Try-Except method.  For example, if you try to change the value associated with a dictionary key that does not exist, then you will get an error.  You can avoid your program crshing using Try-Except."
   ]
  },
  {
   "cell_type": "code",
   "execution_count": null,
   "metadata": {},
   "outputs": [],
   "source": [
    "dictResponses = {'A': 3, 'B': 5, 'C':3}"
   ]
  },
  {
   "cell_type": "code",
   "execution_count": null,
   "metadata": {},
   "outputs": [],
   "source": [
    "dictResponses['D'] += 1"
   ]
  },
  {
   "cell_type": "code",
   "execution_count": null,
   "metadata": {},
   "outputs": [],
   "source": [
    "try:\n",
    "    dictResponses['D'] += 1\n",
    "except:\n",
    "    dictResponses['D'] = 1\n",
    "    \n",
    "dictResponses"
   ]
  },
  {
   "cell_type": "markdown",
   "metadata": {},
   "source": [
    "## For Loops\n",
    "\n",
    "- Loops make it easy to execute many thousands or millions of lines very quickly\n",
    "- For loops are for iterating through an 'iterable' for a known number of times\n",
    "- These are iterables:\n",
    "    - lists\n",
    "    - ranges\n",
    "    - tuples\n",
    "    - dictionaries\n",
    "    - sets\n",
    "    - generators\n",
    "- Multiple ways to iterate through iterables"
   ]
  },
  {
   "cell_type": "code",
   "execution_count": null,
   "metadata": {},
   "outputs": [],
   "source": [
    "myList = list(range(5,26,5))\n",
    "print(myList)\n",
    "for ele in myList:\n",
    "    print(ele)"
   ]
  },
  {
   "cell_type": "code",
   "execution_count": null,
   "metadata": {},
   "outputs": [],
   "source": [
    "for i in range(len(myList)):\n",
    "    print(myList[i])"
   ]
  },
  {
   "cell_type": "code",
   "execution_count": null,
   "metadata": {},
   "outputs": [],
   "source": [
    "for i in range(len(myList)):\n",
    "    myList[i] = 99\n",
    "myList"
   ]
  },
  {
   "cell_type": "code",
   "execution_count": null,
   "metadata": {},
   "outputs": [],
   "source": [
    "myList = list(range(5,26,5))\n",
    "for ele in myList:\n",
    "    ele = 99\n",
    "myList"
   ]
  },
  {
   "cell_type": "markdown",
   "metadata": {},
   "source": [
    "When you want to loop through a list to change values, you need to use the approach from two cells above."
   ]
  },
  {
   "cell_type": "markdown",
   "metadata": {},
   "source": [
    "You can iterate through sets and tuples."
   ]
  },
  {
   "cell_type": "code",
   "execution_count": null,
   "metadata": {},
   "outputs": [],
   "source": [
    "x = {1,2,3,4,5,6,7,8,9,10,11,12}\n",
    "print(type(x))\n",
    "for t in x:\n",
    "    print(t)"
   ]
  },
  {
   "cell_type": "markdown",
   "metadata": {
    "collapsed": true
   },
   "source": [
    "You can iterate through dictionaries, but it requires a slightly different technique using the keys."
   ]
  },
  {
   "cell_type": "code",
   "execution_count": null,
   "metadata": {},
   "outputs": [],
   "source": [
    "for thisKey in myDiction:\n",
    "    print(thisKey)\n",
    "    #print(thisKey,':',myDiction[thisKey])"
   ]
  },
  {
   "cell_type": "code",
   "execution_count": null,
   "metadata": {},
   "outputs": [],
   "source": [
    "myDiction = {'zero':0,'one':1, 'two':2}\n",
    "\n",
    "keyList = list(myDiction.keys())\n",
    "keyList.sort()\n",
    "for thisKey in keyList:\n",
    "    print(thisKey,':',myDiction[thisKey])"
   ]
  },
  {
   "cell_type": "code",
   "execution_count": null,
   "metadata": {},
   "outputs": [],
   "source": [
    "for key,value in myDiction.items():\n",
    "    print(key,':', value)"
   ]
  },
  {
   "cell_type": "markdown",
   "metadata": {
    "collapsed": true
   },
   "source": [
    "Your turn!  Loop through this dictionary and change the value for every even key to 'even' and every odd key to 'add'"
   ]
  },
  {
   "cell_type": "code",
   "execution_count": null,
   "metadata": {},
   "outputs": [],
   "source": [
    "randsInt = {1: 'N/A',5: 'N/A',7: 'N/A',15: 'N/A',20: 'N/A',24: 'N/A',27: 'N/A',30: 'N/A',31: 'N/A',32: 'N/A',35: 'N/A',\\\n",
    "            38: 'N/A',44: 'N/A',55: 'N/A',83: 'N/A',87: 'N/A',89: 'N/A',93: 'N/A',98: 'N/A',101: 'N/A',104: 'N/A',109: 'N/A'}\n",
    "\n",
    "# Write the code for your solution here\n"
   ]
  },
  {
   "cell_type": "markdown",
   "metadata": {},
   "source": [
    "## While Loops"
   ]
  },
  {
   "cell_type": "markdown",
   "metadata": {},
   "source": [
    "- Looping when the number of iterations through the loops are unknown\n",
    "- Requires a Boolean expression in the While statement to determine when to exit the loop\n",
    "    - Looping continues if Boolean expresion is True\n",
    "    - Looping ceases if Boolean expression in False \n",
    "\n",
    "Loop through the list variable _randNums_ until the sum of the values first exceed 5.  Print out the sum and the number of values that were added to obtain that total."
   ]
  },
  {
   "cell_type": "code",
   "execution_count": null,
   "metadata": {},
   "outputs": [],
   "source": [
    "randNums = [0.524,0.707,0.738,0.443,0.743,0.131,0.846,0.697,0.632,0.508,0.284,0.455,0.242,0.312,\\\n",
    "            0.088,0.113,0.824,0.74,0.892,0.425]"
   ]
  },
  {
   "cell_type": "code",
   "execution_count": null,
   "metadata": {},
   "outputs": [],
   "source": [
    "total = 0\n",
    "numValues = 0\n",
    "while total <= 5:\n",
    "    total += randNums[numValues]\n",
    "    numValues +=1\n",
    "print(numValues, 'terms were summed in order to obtain a total of',total)"
   ]
  },
  {
   "cell_type": "markdown",
   "metadata": {},
   "source": [
    "Your turn!  Total the terms in the list below up util, and including the 3rd term with a value of 1."
   ]
  },
  {
   "cell_type": "code",
   "execution_count": null,
   "metadata": {},
   "outputs": [],
   "source": [
    "thisList = [0.70310152942486,0.7626823486541491,0.8105911024952027,0.7464129769247373,0.8274023468410625,1,0.7526060661489516,\\\n",
    "            0.5247335942256149, 0.712589630730197,0.5664629799743341,1,1,1,0.5550803933264359,0.974270251579191,1,\\\n",
    "            0.7502549111789825,1,0.9206881529420825,1, 0.38334148064397167,0.7421471413395535,0.3646384646728834,\\\n",
    "            0.9989013644395451,0.6900416369125028]\n",
    "# Write the code for your solution here\n"
   ]
  },
  {
   "cell_type": "markdown",
   "metadata": {
    "collapsed": true
   },
   "source": [
    "## Python Packages\n",
    "\n",
    "Python packages are code that other people have written that we can use by doing the following:\n",
    "\n",
    "- Installing the package into our Python development environment (do this once)\n",
    "- Importing the package code into our programs (do this in every program using a particular package)\n",
    "\n",
    "These packages are among the most frequently used Python packages and will be the ones most beneficial to you to learn first:\n",
    "\n",
    "- matplotlib (graphing)\n",
    "- numpy (numerical computations)\n",
    "- pandas (data manipulation)"
   ]
  },
  {
   "cell_type": "code",
   "execution_count": null,
   "metadata": {},
   "outputs": [],
   "source": [
    "import numpy as np\n",
    "import pandas as pd\n",
    "import matplotlib.pyplot as plt\n",
    "%matplotlib inline"
   ]
  }
 ],
 "metadata": {
  "kernelspec": {
   "display_name": "Python 3",
   "language": "python",
   "name": "python3"
  },
  "language_info": {
   "codemirror_mode": {
    "name": "ipython",
    "version": 3
   },
   "file_extension": ".py",
   "mimetype": "text/x-python",
   "name": "python",
   "nbconvert_exporter": "python",
   "pygments_lexer": "ipython3",
   "version": "3.7.6"
  }
 },
 "nbformat": 4,
 "nbformat_minor": 2
}
